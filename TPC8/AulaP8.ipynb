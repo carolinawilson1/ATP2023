{
 "cells": [
  {
   "cell_type": "markdown",
   "id": "1e545158",
   "metadata": {},
   "source": [
    "# Aula Prática 8 (guião)\n",
    "### Semana de 30 de Outubro a 3 de Novembro de 2023\n",
    "### José Carlos Ramalho e Luís Cunha\n",
    "### Sinopsis:\n",
    "Consolidação e aferição de tudo o que foi feito até ao momento. "
   ]
  },
  {
   "cell_type": "markdown",
   "id": "9b9b5140-2b81-435e-9fc0-324437a7b453",
   "metadata": {},
   "source": [
    "### Assunto: Frações\n",
    "Vamos pensar num modelo: o que é uma fração estruturalmente?"
   ]
  },
  {
   "cell_type": "code",
   "execution_count": 2,
   "id": "5a6da5eb",
   "metadata": {},
   "outputs": [],
   "source": [
    "# Modelo duma fração \n",
    "f1 = (1,2)\n",
    "\n",
    "# Modelo duma lista de frações  [(1,2),(2,3)(4,3)]"
   ]
  },
  {
   "cell_type": "markdown",
   "id": "d477052b-e074-4a5d-ac12-85c2286a1e5f",
   "metadata": {},
   "source": [
    "### Construtor"
   ]
  },
  {
   "cell_type": "code",
   "execution_count": 4,
   "id": "33d1c7e9-22af-4473-9b21-3e7ce0fcf571",
   "metadata": {},
   "outputs": [
    {
     "name": "stdout",
     "output_type": "stream",
     "text": [
      "1/2 1/2 "
     ]
    }
   ],
   "source": [
    "def criarFracao(numerador, denominador):\n",
    "    return (numerador,denominador)\n",
    "\n",
    "def verFracao(f):\n",
    "    print(f[0], \"/\",f[1], sep = \"\", end = \" \") #diz que o separador é nada ou seja ja não vai haver espaço no print\n",
    "    return                                     #o end tira o \\n para nao dar paragrafo\n",
    "\n",
    "\n",
    "def verFracao(f):\n",
    "    print(str(f[0]) + \"/\" str(f[1]), end = \" \") #o mais so se pode usar com str\n",
    "    return    \n",
    "\n",
    "verFracao(f1)\n",
    "verFracao(f1)\n"
   ]
  },
  {
   "cell_type": "code",
   "execution_count": 5,
   "id": "d46df3ff",
   "metadata": {},
   "outputs": [
    {
     "name": "stdout",
     "output_type": "stream",
     "text": [
      "2/3 "
     ]
    }
   ],
   "source": [
    "f1 = criarFracao(2,3)\n",
    "verFracao(f1)"
   ]
  },
  {
   "cell_type": "markdown",
   "id": "f7cd0ff1",
   "metadata": {},
   "source": [
    "### Simplificação de frações"
   ]
  },
  {
   "cell_type": "code",
   "execution_count": 7,
   "id": "8b0fa08f",
   "metadata": {},
   "outputs": [],
   "source": [
    "def simplificarFracao(f):\n",
    "    divisor = mdc(f[0],f[1])\n",
    "    return (f[0]/divisor,f[1]/divisor)"
   ]
  },
  {
   "cell_type": "code",
   "execution_count": 6,
   "id": "562c2ba4",
   "metadata": {},
   "outputs": [],
   "source": [
    "def mdc(a,b):\n",
    "    while a != b:\n",
    "        if a > b:\n",
    "            aux = a\n",
    "            a = b\n",
    "            b = aux - b #ou a,b = b, a-b\n",
    "        else:\n",
    "            a,b = b-a\n",
    "    return b\n",
    "\n"
   ]
  },
  {
   "cell_type": "code",
   "execution_count": null,
   "id": "8821d031",
   "metadata": {},
   "outputs": [],
   "source": [
    "verFracao(simplificarFracao(criarFracao(21, 140)))"
   ]
  },
  {
   "cell_type": "markdown",
   "id": "ca2f1736",
   "metadata": {},
   "source": [
    "### Frações equivalentes\n",
    "\n",
    "Defina uma função que recebe duas frações como argumento e devolve `True` se as frações são equivalentes e `False` caso contrário."
   ]
  },
  {
   "cell_type": "code",
   "execution_count": null,
   "id": "58bdae83",
   "metadata": {},
   "outputs": [],
   "source": [
    "def equivalenteFracao(f1,f2):\n",
    "    return simplificarFracao(f1) == simplificarFracao(f2)\n",
    "\n",
    "f2 = (2,4)\n",
    "f3 = (4,8)\n",
    "f4 = (3,7)\n",
    "print(equivalenteFracao(f2,f3))"
   ]
  },
  {
   "cell_type": "markdown",
   "id": "d52f012f",
   "metadata": {},
   "source": [
    "## Operações sobre frações"
   ]
  },
  {
   "cell_type": "code",
   "execution_count": 20,
   "id": "96ba280b",
   "metadata": {},
   "outputs": [
    {
     "name": "stdout",
     "output_type": "stream",
     "text": [
      "29/21 "
     ]
    }
   ],
   "source": [
    "def somarFrac(f1, f2):\n",
    "    return f1[0] * f2[1] + f2[0] * f1[1], f1[1] * f2[1]\n",
    "\n",
    "f2 = criarFracao(5,7)\n",
    "verFracao(somarFrac(f1,f2))"
   ]
  },
  {
   "cell_type": "code",
   "execution_count": 24,
   "id": "a0198bce",
   "metadata": {},
   "outputs": [
    {
     "name": "stdout",
     "output_type": "stream",
     "text": [
      "[(9, 5), (7, 3), (3, 13), (5, 14), (4, 9), (5, 5), (5, 9), (1, 16), (3, 9), (1, 5), (4, 13), (5, 16), (1, 3), (5, 9), (9, 16), (9, 18), (1, 19), (9, 8), (4, 9)]\n"
     ]
    }
   ],
   "source": [
    "listaFrac = [f1, f2, criarFracao(125,1000), (8,12)]\n",
    "listaFrac2 = []\n",
    "import random\n",
    "for i in range(1,20):\n",
    "    n = random.randrange(1, 10)\n",
    "    d = random.randrange(2, 20)\n",
    "    listaFrac2.append(criarFracao(n,d))\n",
    "print(listaFrac2)"
   ]
  },
  {
   "cell_type": "markdown",
   "id": "e83e4eae",
   "metadata": {},
   "source": [
    "### Soma uma lista de frações"
   ]
  },
  {
   "cell_type": "code",
   "execution_count": 17,
   "id": "402d83f0",
   "metadata": {},
   "outputs": [
    {
     "data": {
      "text/plain": [
       "(11, 6)"
      ]
     },
     "execution_count": 17,
     "metadata": {},
     "output_type": "execute_result"
    }
   ],
   "source": [
    "def somarListaFrac(lista):\n",
    "    for i in range(1,len(lista)):\n",
    "        if lista[i][1] == lista[i-1][1]:\n",
    "            num = lista[i][0] + lista[i-1][0]\n",
    "            den = lista[i][1]\n",
    "        else:\n",
    "            num = lista[i][0]*lista[i-1][1] + lista[i][1]*lista[i-1][0]\n",
    "            den = lista[i][1]*lista[i-1][1]\n",
    "    return (num,den)\n",
    "\n",
    "somarListaFrac([(1,3),(3,2)])\n"
   ]
  },
  {
   "cell_type": "code",
   "execution_count": 21,
   "id": "aa3abdba",
   "metadata": {},
   "outputs": [
    {
     "data": {
      "text/plain": [
       "(11, 6)"
      ]
     },
     "execution_count": 21,
     "metadata": {},
     "output_type": "execute_result"
    }
   ],
   "source": [
    "def somarListaFrac2(lista):\n",
    "    res = somarFrac(lista[0],lista[1])\n",
    "    i = 2\n",
    "    while i < len(lista):\n",
    "        res = somarFrac(res, lista[i])\n",
    "        i = i + 1\n",
    "    return res\n",
    "\n",
    "somarListaFrac2([(1,3),(3,2)])"
   ]
  },
  {
   "cell_type": "code",
   "execution_count": 22,
   "id": "23c6bc6b",
   "metadata": {},
   "outputs": [
    {
     "data": {
      "text/plain": [
       "(11, 6)"
      ]
     },
     "execution_count": 22,
     "metadata": {},
     "output_type": "execute_result"
    }
   ],
   "source": [
    "def somarListaFrac3(lista):\n",
    "    res = lista[0]\n",
    "    for f in lista[1:]:\n",
    "        res = somarFrac(res, f)\n",
    "    return res\n",
    "\n",
    "somarListaFrac3([(1,3),(3,2)])"
   ]
  },
  {
   "cell_type": "code",
   "execution_count": null,
   "id": "4d5fab2d",
   "metadata": {},
   "outputs": [],
   "source": [
    "nova = lista[::-1] #é usado para inverter uma sequência (como uma lista)"
   ]
  },
  {
   "cell_type": "markdown",
   "id": "a88929cc",
   "metadata": {},
   "source": [
    "### Multiplica 2 frações"
   ]
  },
  {
   "cell_type": "code",
   "execution_count": null,
   "id": "519c5358",
   "metadata": {},
   "outputs": [],
   "source": [
    "def multFrac(f1, f2):\n",
    "    num, den = f1\n",
    "    numm, denn = f2\n",
    "    return"
   ]
  },
  {
   "cell_type": "markdown",
   "id": "d1f0c8fa",
   "metadata": {},
   "source": [
    "### Ordenar uma lista de frações por ordem decrescente"
   ]
  },
  {
   "cell_type": "code",
   "execution_count": 28,
   "id": "b783df02",
   "metadata": {},
   "outputs": [
    {
     "data": {
      "text/plain": [
       "[(5, 7), (2, 3), (8, 12), (125, 1000)]"
      ]
     },
     "execution_count": 28,
     "metadata": {},
     "output_type": "execute_result"
    }
   ],
   "source": [
    "def ordena(f):\n",
    "    return f[0]/f[1]\n",
    "#Biles\n",
    "\n",
    "def ordenaFracDec(lista):\n",
    "    lista = sorted(lista, key = ordena, reverse = True)\n",
    "    return lista\n",
    "\n",
    "ordenaFracDec(listaFrac)"
   ]
  },
  {
   "cell_type": "markdown",
   "id": "fcd5b5d6",
   "metadata": {},
   "source": [
    "### Guardar uma lista de frações num ficheiro"
   ]
  },
  {
   "cell_type": "code",
   "execution_count": 31,
   "id": "2840f9b2",
   "metadata": {},
   "outputs": [],
   "source": [
    "def gravaListaFrac(fnome,lista):\n",
    "    file=open(fnome,'w')\n",
    "    for f in lista:\n",
    "        registo = str(f[0]) + \"/\" + str(f[1]) + \"\\n\"\n",
    "        file.write(registo)\n",
    "    file.close()\n",
    "    return \n",
    "\n",
    "gravaListaFrac('fracos.txt',listaFrac)"
   ]
  },
  {
   "cell_type": "markdown",
   "id": "0664fcdc",
   "metadata": {},
   "source": [
    "### Recuperar uma lista de frações dum ficheiro"
   ]
  },
  {
   "cell_type": "code",
   "execution_count": 46,
   "id": "49d7aef5",
   "metadata": {},
   "outputs": [
    {
     "data": {
      "text/plain": [
       "[(2, 3), (5, 7), (125, 1000), (8, 12)]"
      ]
     },
     "execution_count": 46,
     "metadata": {},
     "output_type": "execute_result"
    }
   ],
   "source": [
    "def carregaListaFrac2(fnome):\n",
    "    file = open(fnome, 'r')\n",
    "    lista = []\n",
    "    for linha in file:\n",
    "        linha = linha[:-1]\n",
    "        fracao = linha.split(\"/\")\n",
    "        num = int(fracao[0])\n",
    "        denum = int(fracao[1])\n",
    "        lista.append(((num),(denum)))\n",
    "    file.close()\n",
    "    return lista\n",
    "\n",
    "carregaListaFrac2('fracos.txt')"
   ]
  },
  {
   "cell_type": "code",
   "execution_count": 40,
   "id": "82aece6e",
   "metadata": {},
   "outputs": [
    {
     "data": {
      "text/plain": [
       "[(2, 3), (5, 7), (125, 1000), (8, 12)]"
      ]
     },
     "execution_count": 40,
     "metadata": {},
     "output_type": "execute_result"
    }
   ],
   "source": [
    "def carregaListaFrac(fnome):\n",
    "    file = open(fnome, 'r')\n",
    "    lista = []\n",
    "    for f in file:\n",
    "        f = f.strip()\n",
    "        frac = f.split('/')\n",
    "        num, den = frac\n",
    "        lista.append((int(num),int(den)))\n",
    "    file.close()\n",
    "    return lista\n",
    "\n",
    "carregaListaFrac('fracos.txt')"
   ]
  },
  {
   "cell_type": "markdown",
   "id": "4193a91b",
   "metadata": {},
   "source": [
    "## TPC8: Teste de aferição\n",
    "\n",
    "Resolva os problemas apresentados a seguir."
   ]
  },
  {
   "cell_type": "markdown",
   "id": "ecb162bd",
   "metadata": {},
   "source": [
    "### tpc-1. Especifique as seguintes listas em compreensão:"
   ]
  },
  {
   "cell_type": "markdown",
   "id": "4e758271",
   "metadata": {},
   "source": [
    "#### a) Lista formada pelos elementos que não são comuns às duas listas:"
   ]
  },
  {
   "cell_type": "code",
   "execution_count": 28,
   "id": "1fe48423",
   "metadata": {},
   "outputs": [
    {
     "name": "stdout",
     "output_type": "stream",
     "text": [
      "[1, 2, 3, 6, 7, 8]\n"
     ]
    }
   ],
   "source": [
    "lista1 = [1, 2, 3, 4, 5]\n",
    "lista2 = [4, 5, 6, 7, 8]  \n",
    "comuns = sorted([i for i in lista1 if i not in lista2] + [j for j in lista2 if j not in lista1])\n",
    "print(comuns)\n",
    "# Resultado esperado: [1,2,3,5,7,8]"
   ]
  },
  {
   "cell_type": "markdown",
   "id": "0ded2f03",
   "metadata": {},
   "source": [
    "#### b) Lista formada pelas palavras do texto compostas por mais de 3 letras:"
   ]
  },
  {
   "cell_type": "code",
   "execution_count": 27,
   "id": "4ae7f5d0",
   "metadata": {},
   "outputs": [
    {
     "name": "stdout",
     "output_type": "stream",
     "text": [
      "['Vivia', 'poucos', 'anos', 'algures', 'concelho', 'Ribatejo', 'pequeno', 'lavrador', 'negociante', 'gado', 'chamado', 'Manuel', 'Peres', 'Vigário']\n"
     ]
    }
   ],
   "source": [
    "texto = \"\"\"Vivia há já não poucos anos algures num concelho do Ribatejo \n",
    "    um pequeno lavrador e negociante de gado chamado Manuel Peres Vigário\"\"\"\n",
    "lista = [i for i in texto.split(' ') if len(i)>3]\n",
    "print(lista)\n",
    "# Resultado esperado: ['Vivia', 'poucos', 'anos', 'algures', 'concelho', ...]"
   ]
  },
  {
   "cell_type": "markdown",
   "id": "ecf72afd",
   "metadata": {},
   "source": [
    "#### c) Lista formada por pares do tipo (índice, valor) com os valores da lista dada:"
   ]
  },
  {
   "cell_type": "code",
   "execution_count": 26,
   "id": "30abbc40",
   "metadata": {},
   "outputs": [
    {
     "name": "stdout",
     "output_type": "stream",
     "text": [
      "[(1, 'anaconda'), (2, 'burro'), (3, 'cavalo'), (4, 'macaco')]\n"
     ]
    }
   ],
   "source": [
    "lista = ['anaconda', 'burro', 'cavalo', 'macaco']\n",
    "listaRes = [(i+1, lista[i]) for i in range(len(lista))]\n",
    "\n",
    "print(listaRes)\n",
    "\n",
    "# Resultado esperado: [(1,'anaconda'), (2,'burro'), (3,'cavalo'), (4,'macaco')]"
   ]
  },
  {
   "cell_type": "markdown",
   "id": "28cb3dc4",
   "metadata": {},
   "source": [
    "### tpc-2. À semelhança do que foi feito nas aulas, realize as seguintes tarefas:"
   ]
  },
  {
   "cell_type": "markdown",
   "id": "5d3f1dbe",
   "metadata": {},
   "source": [
    "#### a) Especifique uma função que dada uma string e uma substring não vazia, calcula  o número de vezes em que a substring aparece na string, sem que haja sobreposição de substrings:"
   ]
  },
  {
   "cell_type": "code",
   "execution_count": 73,
   "id": "4458c7bc",
   "metadata": {},
   "outputs": [
    {
     "data": {
      "text/plain": [
       "2"
      ]
     },
     "execution_count": 73,
     "metadata": {},
     "output_type": "execute_result"
    }
   ],
   "source": [
    "def strCount(s, subs):\n",
    "    contador = 0\n",
    "    lista = []\n",
    "    for i in range(0,len(s),len(subs)):\n",
    "        palavras = s[i:i+3]\n",
    "        lista.append(palavras)\n",
    "    for j in lista:\n",
    "        if j == subs:\n",
    "            contador = contador + 1\n",
    "    return contador\n",
    "\n",
    "strCount(\"catcowcat\", \"cat\") # --> 2\n",
    "#strCount(\"catcowcat\", \"cow\") # --> 1\n",
    "#strCount(\"catcowcat\", \"dog\") # --> 0"
   ]
  },
  {
   "cell_type": "markdown",
   "id": "e6db31d7",
   "metadata": {},
   "source": [
    "#### b) Especifique uma função que recebe uma lista de números inteiros positivos e devolve o menor produto que for possível calcular multiplicando os 3 menores inteiros da lista:"
   ]
  },
  {
   "cell_type": "code",
   "execution_count": 75,
   "id": "2b5ad344",
   "metadata": {},
   "outputs": [
    {
     "name": "stdout",
     "output_type": "stream",
     "text": [
      "168\n"
     ]
    }
   ],
   "source": [
    "def produtoM3(lista):\n",
    "    tresmenores = []\n",
    "    while len(tresmenores) < 3:\n",
    "        tresmenores.append(menornum(lista))\n",
    "        lista.remove(menornum(lista))\n",
    "    produto = tresmenores[0]*tresmenores[1]*tresmenores[2]\n",
    "    return produto\n",
    "\n",
    "def menornum(lista):\n",
    "    menor = lista[0]\n",
    "    for i in lista:\n",
    "        if i < menor:\n",
    "            menor = i\n",
    "    return menor\n",
    "\n",
    "print(produtoM3([12,3,7,10,12,8,9]))\n",
    "# Resultado esperado: 168 = 3 * 7 * 8\n",
    "\n"
   ]
  },
  {
   "cell_type": "markdown",
   "id": "6698b337",
   "metadata": {},
   "source": [
    "#### c) Especifique uma função que dado um número inteiro positivo, repetidamente adiciona os seus dígitos até obter apenas um dígito que é retornado como resultado:"
   ]
  },
  {
   "cell_type": "code",
   "execution_count": null,
   "id": "54cef309",
   "metadata": {},
   "outputs": [],
   "source": [
    "# Input: 38\n",
    "# Output: 2\n",
    "# Explicação: 3 + 8 = 11, 1 + 1 = 2.\n",
    "\n",
    "# Input: 777\n",
    "# Output: 3\n",
    "# Explicação: 7 + 7 + 7 = 21, 2 + 1 = 3.\n",
    "\n",
    "def reduxInt(n):\n",
    "    n_str = str(n)\n",
    "    soma = 0\n",
    "    while len(n_str) > 0:\n",
    "        soma = soma + int(n_str[0])\n",
    "        n_str = n_str[1:]\n",
    "                \n",
    "    return soma\n",
    "\n",
    "#Não está a dar bem, so faz a 1ª soma\n",
    "\n",
    "reduxInt(777)"
   ]
  },
  {
   "cell_type": "code",
   "execution_count": 19,
   "id": "23bcc452",
   "metadata": {},
   "outputs": [
    {
     "data": {
      "text/plain": [
       "3"
      ]
     },
     "execution_count": 19,
     "metadata": {},
     "output_type": "execute_result"
    }
   ],
   "source": [
    "def reduxInt(n):\n",
    "    while n >= 10:\n",
    "        soma = 0\n",
    "        while n > 0:\n",
    "            soma += n % 10\n",
    "            n //= 10\n",
    "        n = soma\n",
    "    return n\n",
    "reduxInt(777)\n",
    "#Este já deu bem"
   ]
  },
  {
   "cell_type": "markdown",
   "id": "4a47b6e8",
   "metadata": {},
   "source": [
    "#### d) Especifique uma função que recebe duas strings, `string1` e `string2`, e devolve o índice da primeira ocorrência de `string2` em `string1`, caso não ocorra nenhuma vez a função deverá retornar `-1`:"
   ]
  },
  {
   "cell_type": "code",
   "execution_count": 22,
   "id": "f0f4c2a8",
   "metadata": {},
   "outputs": [
    {
     "data": {
      "text/plain": [
       "13"
      ]
     },
     "execution_count": 22,
     "metadata": {},
     "output_type": "execute_result"
    }
   ],
   "source": [
    "# Invocação: indexOf(\"Hoje está um belo dia de sol!\", \"belo\")\n",
    "# Resultado: 13\n",
    "\n",
    "# Invocação: indexOf(\"Hoje está um belo dia de sol!\", \"chuva\")\n",
    "# Resultado: -1\n",
    "\n",
    "def myIndexOf(s1, s2):\n",
    "    index = s1.find(s2)\n",
    "    if index != -1:\n",
    "        res = index\n",
    "    else:\n",
    "        res = -1\n",
    "    return res\n",
    "\n",
    "myIndexOf(\"Hoje está um belo dia de sol!\", \"belo\")\n",
    "# Resultado: 13"
   ]
  },
  {
   "cell_type": "markdown",
   "id": "7cd572fc",
   "metadata": {},
   "source": [
    "### tpc-3. A Rede Social\n",
    "\n",
    "Considere que a informação sobre uma rede social está armazenada numa lista de dicionários.\n",
    "\n",
    "Cada dicionário, correspondente a um _post_ e tem chaves `id`, `conteudo`, `autor`, `dataCriacao` e `comentarios`.\n",
    "Por sua vez, `comentarios` é uma lista de dicionários com chaves `comentario` e `autor`.\n",
    "\n",
    "Considere o seguinte exemplo:\n",
    "\n",
    "``` \n",
    "    MyFaceBook = [{\n",
    "        'id': 'p1', \n",
    "        'conteudo': 'A tarefa de avaliação é talvez a mais ingrata das tarefas que um professor\n",
    "    tem de realizar...', \n",
    "        'autor': 'jcr', \n",
    "        'dataCriacao': '2023-07-20', \n",
    "        'comentarios': [\n",
    "            {\n",
    "                'comentario': 'Completamente de acordo...',\n",
    "                'autor': 'prh'\n",
    "            },\n",
    "            {\n",
    "                'comentario': 'Mas há quem goste...',\n",
    "                'autor': 'jj'\n",
    "            }\n",
    "        ]},\n",
    "        {\n",
    "            'id': 'p2',\n",
    "            ...\n",
    "        },\n",
    "        ...\n",
    "        ]\n",
    "```"
   ]
  },
  {
   "cell_type": "markdown",
   "id": "89afc758",
   "metadata": {},
   "source": [
    "Defina as seguintes funções de manipulação e consulta da rede social:"
   ]
  },
  {
   "cell_type": "markdown",
   "id": "1aec6cd8",
   "metadata": {},
   "source": [
    "#### a) `quantosPost`, que indica quantos posts estão registados:"
   ]
  },
  {
   "cell_type": "code",
   "execution_count": 7,
   "metadata": {},
   "outputs": [],
   "source": [
    "MyFaceBook = [{\n",
    "        'id': 'p1', \n",
    "        'conteudo': 'A tarefa de avaliação é talvez a mais ingrata das tarefas que um professor tem de realizar...', \n",
    "        'autor': 'jcr', \n",
    "        'dataCriacao': '2023-07-20', \n",
    "        'comentarios': [\n",
    "            {\n",
    "                'comentario': 'Completamente de acordo...',\n",
    "                'autor': 'prh'\n",
    "            },\n",
    "            {\n",
    "                'comentario': 'Mas há quem goste...',\n",
    "                'autor': 'jj'\n",
    "            }\n",
    "        ]},\n",
    "        {\n",
    "        'id': 'p1', \n",
    "        'conteudo': 'Conteudo2', \n",
    "        'autor': 'jcr', \n",
    "        'dataCriacao': '2023-07-20', \n",
    "        'comentarios': [\n",
    "            {\n",
    "                'comentario': 'Completamente de acordo...',\n",
    "                'autor': 'prh'\n",
    "            },\n",
    "            {\n",
    "                'comentario': 'Mas há quem goste...',\n",
    "                'autor': 'jj'\n",
    "            }    \n",
    "        ]         \n",
    "        }]\n"
   ]
  },
  {
   "cell_type": "code",
   "execution_count": 4,
   "id": "39a813ee",
   "metadata": {},
   "outputs": [
    {
     "data": {
      "text/plain": [
       "2"
      ]
     },
     "execution_count": 4,
     "metadata": {},
     "output_type": "execute_result"
    }
   ],
   "source": [
    "def quantosPost(redeSocial):\n",
    "    posts = len(redeSocial)\n",
    "    return posts\n",
    "\n",
    "quantosPost(MyFaceBook)"
   ]
  },
  {
   "cell_type": "markdown",
   "id": "2156a0c8",
   "metadata": {},
   "source": [
    "#### b)  `postsAutor`, que devolve a lista de posts de um determinado autor:"
   ]
  },
  {
   "cell_type": "code",
   "execution_count": 8,
   "id": "8a5a2a41",
   "metadata": {},
   "outputs": [
    {
     "data": {
      "text/plain": [
       "[{'id': 'p1',\n",
       "  'conteudo': 'A tarefa de avaliação é talvez a mais ingrata das tarefas que um professor tem de realizar...',\n",
       "  'autor': 'jcr',\n",
       "  'dataCriacao': '2023-07-20',\n",
       "  'comentarios': [{'comentario': 'Completamente de acordo...', 'autor': 'prh'},\n",
       "   {'comentario': 'Mas há quem goste...', 'autor': 'jj'}]},\n",
       " {'id': 'p1',\n",
       "  'conteudo': 'Conteudo2',\n",
       "  'autor': 'jcr',\n",
       "  'dataCriacao': '2023-07-20',\n",
       "  'comentarios': [{'comentario': 'Completamente de acordo...', 'autor': 'prh'},\n",
       "   {'comentario': 'Mas há quem goste...', 'autor': 'jj'}]}]"
      ]
     },
     "execution_count": 8,
     "metadata": {},
     "output_type": "execute_result"
    }
   ],
   "source": [
    "def postsAutor(redeSocial, autor):\n",
    "    lista = []\n",
    "    for post in redeSocial:\n",
    "        if post['autor'] == autor:\n",
    "            lista.append(post)\n",
    "    return lista\n",
    "\n",
    "postsAutor(MyFaceBook, 'jcr')"
   ]
  },
  {
   "cell_type": "markdown",
   "id": "12f9126b",
   "metadata": {},
   "source": [
    "#### c) `autores`, que devolve a lista de autores de posts ordenada alfabeticamente:"
   ]
  },
  {
   "cell_type": "code",
   "execution_count": 14,
   "id": "d9dfe30a",
   "metadata": {},
   "outputs": [
    {
     "data": {
      "text/plain": [
       "['jcr']"
      ]
     },
     "execution_count": 14,
     "metadata": {},
     "output_type": "execute_result"
    }
   ],
   "source": [
    "def autores(redeSocial):\n",
    "    lista = []\n",
    "    for post in redeSocial:\n",
    "        if post['autor'] not in lista:\n",
    "            lista.append(post['autor'])\n",
    "            sorted(lista)\n",
    "    return lista\n",
    "autores(MyFaceBook)"
   ]
  },
  {
   "cell_type": "markdown",
   "id": "1a0f760b",
   "metadata": {},
   "source": [
    "#### d) `insPost`, que acrescenta um novo post à rede social a partir dos parâmetros recebidos e devolve a nova rede social. \n",
    "    \n",
    "O campo `id` devrá ser calculado a partir dos já existentes, por exemplo, se a rede tiver posts com id `p1`, `p2` e `p3`, o novo `id` deverá ser `p4`."
   ]
  },
  {
   "cell_type": "code",
   "execution_count": null,
   "id": "a00c85e3",
   "metadata": {},
   "outputs": [],
   "source": [
    "def insPost(redeSocial, conteudo, autor, dataCriacao, comentarios):\n",
    "    # ... \n",
    "    return "
   ]
  },
  {
   "cell_type": "markdown",
   "id": "65061d0a",
   "metadata": {},
   "source": [
    "#### e)  `remPost`, que remove um post da rede, correspondente ao `id` recebido."
   ]
  },
  {
   "cell_type": "code",
   "execution_count": null,
   "id": "dc1adabc",
   "metadata": {},
   "outputs": [],
   "source": [
    "def remPost(redeSocial, id):\n",
    "    for post in redeSocial:\n",
    "        if post['id'] == id:\n",
    "            redeSocial.remove(post)\n",
    "    return redeSocial\n",
    "remPost(MyFaceBook, 'p1')"
   ]
  },
  {
   "cell_type": "markdown",
   "id": "de46a635",
   "metadata": {},
   "source": [
    "#### f) `postsPorAutor`, que devolve uma distribuição de posts por autor (à semelhança do que foi feito nas aulas)."
   ]
  },
  {
   "cell_type": "code",
   "execution_count": 30,
   "id": "4118730d",
   "metadata": {},
   "outputs": [
    {
     "data": {
      "text/plain": [
       "{'jcr': 1, 'autor novo': 3}"
      ]
     },
     "execution_count": 30,
     "metadata": {},
     "output_type": "execute_result"
    }
   ],
   "source": [
    "def postsPorAutor(redeSocial):\n",
    "    dist = {}\n",
    "    for post in redeSocial:\n",
    "        autor = post['autor']\n",
    "        if autor not in dist:\n",
    "            dist[autor] = 1\n",
    "        else:\n",
    "            dist[autor] += 1\n",
    "\n",
    "    return dist\n",
    "postsPorAutor(MyFaceBook)"
   ]
  },
  {
   "cell_type": "markdown",
   "id": "5b1d7d7a",
   "metadata": {},
   "source": [
    "#### g) `comentadoPor`, que recebe um autor e devolve a lista de posts comentados por esse autor."
   ]
  },
  {
   "cell_type": "code",
   "execution_count": 33,
   "id": "a91f2619",
   "metadata": {},
   "outputs": [
    {
     "ename": "IndexError",
     "evalue": "list index out of range",
     "output_type": "error",
     "traceback": [
      "\u001b[1;31m---------------------------------------------------------------------------\u001b[0m",
      "\u001b[1;31mIndexError\u001b[0m                                Traceback (most recent call last)",
      "\u001b[1;32mc:\\Users\\MS-FD\\Downloads\\AulaP8.ipynb Cell 64\u001b[0m line \u001b[0;36m8\n\u001b[0;32m      <a href='vscode-notebook-cell:/c%3A/Users/MS-FD/Downloads/AulaP8.ipynb#Y116sZmlsZQ%3D%3D?line=5'>6</a>\u001b[0m             lista\u001b[39m.\u001b[39mappend(post)\n\u001b[0;32m      <a href='vscode-notebook-cell:/c%3A/Users/MS-FD/Downloads/AulaP8.ipynb#Y116sZmlsZQ%3D%3D?line=6'>7</a>\u001b[0m     \u001b[39mreturn\u001b[39;00m lista\n\u001b[1;32m----> <a href='vscode-notebook-cell:/c%3A/Users/MS-FD/Downloads/AulaP8.ipynb#Y116sZmlsZQ%3D%3D?line=7'>8</a>\u001b[0m comentadoPor(MyFaceBook, \u001b[39m'\u001b[39m\u001b[39mjj\u001b[39m\u001b[39m'\u001b[39m)\n",
      "\u001b[1;32mc:\\Users\\MS-FD\\Downloads\\AulaP8.ipynb Cell 64\u001b[0m line \u001b[0;36m5\n\u001b[0;32m      <a href='vscode-notebook-cell:/c%3A/Users/MS-FD/Downloads/AulaP8.ipynb#Y116sZmlsZQ%3D%3D?line=2'>3</a>\u001b[0m \u001b[39mfor\u001b[39;00m post \u001b[39min\u001b[39;00m redeSocial:\n\u001b[0;32m      <a href='vscode-notebook-cell:/c%3A/Users/MS-FD/Downloads/AulaP8.ipynb#Y116sZmlsZQ%3D%3D?line=3'>4</a>\u001b[0m     comentarios \u001b[39m=\u001b[39m post[\u001b[39m'\u001b[39m\u001b[39mcomentarios\u001b[39m\u001b[39m'\u001b[39m]\n\u001b[1;32m----> <a href='vscode-notebook-cell:/c%3A/Users/MS-FD/Downloads/AulaP8.ipynb#Y116sZmlsZQ%3D%3D?line=4'>5</a>\u001b[0m     \u001b[39mif\u001b[39;00m comentarios[\u001b[39m1\u001b[39;49m] \u001b[39m==\u001b[39m autor:\n\u001b[0;32m      <a href='vscode-notebook-cell:/c%3A/Users/MS-FD/Downloads/AulaP8.ipynb#Y116sZmlsZQ%3D%3D?line=5'>6</a>\u001b[0m         lista\u001b[39m.\u001b[39mappend(post)\n\u001b[0;32m      <a href='vscode-notebook-cell:/c%3A/Users/MS-FD/Downloads/AulaP8.ipynb#Y116sZmlsZQ%3D%3D?line=6'>7</a>\u001b[0m \u001b[39mreturn\u001b[39;00m lista\n",
      "\u001b[1;31mIndexError\u001b[0m: list index out of range"
     ]
    }
   ],
   "source": [
    "def comentadoPor(redeSocial, autor):\n",
    "    lista = []\n",
    "    for post in redeSocial:\n",
    "        comentarios = post['comentarios']\n",
    "        if comentarios[1] == autor:\n",
    "            lista.append(post)\n",
    "    return lista\n",
    "comentadoPor(MyFaceBook, 'jj')"
   ]
  }
 ],
 "metadata": {
  "kernelspec": {
   "display_name": "Python 3.9.1 64-bit",
   "language": "python",
   "name": "python3"
  },
  "language_info": {
   "codemirror_mode": {
    "name": "ipython",
    "version": 3
   },
   "file_extension": ".py",
   "mimetype": "text/x-python",
   "name": "python",
   "nbconvert_exporter": "python",
   "pygments_lexer": "ipython3",
   "version": "3.10.7"
  },
  "vscode": {
   "interpreter": {
    "hash": "aee8b7b246df8f9039afb4144a1f6fd8d2ca17a180786b69acc140d282b71a49"
   }
  }
 },
 "nbformat": 4,
 "nbformat_minor": 5
}
