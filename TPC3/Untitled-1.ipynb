{
 "cells": [
  {
   "cell_type": "markdown",
   "metadata": {},
   "source": [
    "## TPC3: Adivinha o número!?\n",
    "\n",
    "Desenvolve em Python o código necessário para o jogo do Adivinha o número: \n",
    "* O jogo deverá ter dois modos: o computador tenta acertar no número que o jogador pensou ou, o jogador tenta acertar no número que o computador pensou; \n",
    "* No fim, o programa deverá indicar quantas tentativas foram realizadas para chegar ao resultado;\n",
    "* O Jogo: \n",
    "    - o utilizador pensa num número entre 0 e 100;\n",
    "    - o computador tenta adivinhar indicando um número do intervalo;\n",
    "    - o utilizador indica se o número em que pensou é **maior**, **menor**, ou se o computador **acertou**;\n",
    "    - ao terminar, o programa imprime o número de tentativas que o computador teve de fazer até chegar ao número.\n",
    "\n",
    "Que conclusão podes tirar sobre o número de tentativas necessárias para um número entre 0 e 100? E se fosse entre 0 e 1000?"
   ]
  },
  {
   "cell_type": "code",
   "execution_count": null,
   "metadata": {},
   "outputs": [],
   "source": [
    "from random import randint\n",
    "num1 = randint(1,101)\n",
    "N = int(input(\"Escreva a sua tentativa\"))\n",
    "c = 0\n",
    "while N != num1:\n",
    "    if N < num1:\n",
    "        print(\"O número é maior\")\n",
    "        N = int(input(\"Escreva a sua tentativa\"))\n",
    "        c = c + 1\n",
    "    elif N > num1:\n",
    "        print(\"O número é menor\")\n",
    "        N = int(input(\"Escreva a sua tentativa\"))\n",
    "        c = c + 1\n",
    "print(f\"Parabéns, o número sorteado é {num1} e acertou com {c} tentativas\")"
   ]
  },
  {
   "cell_type": "markdown",
   "metadata": {},
   "source": [
    "O usuário, ao jogar pode adotar uma estratégia para chegar ao valor com o minimo número de tentativas possiveis. Se escolher sempre o número intermédio, consegue sempre acertar o número no máximo com 7 tentativas. Exemplo: começa por escolher o 50, assim fica a saber se o número escolhido está em [1, 50] ou [51, 100]. Caso se encontre, por exemplo no primeiro intervalo (se for menor que 50), escolhemos o 25 para mais uma vez limitarmos o intervalo onde se encontra o valor. Desta maneira, o usuario garante que consegue acertar o valor em 7 tentativas. O mesmo método pode ser usado para um valor entre 0 a 1000, apenas aumentaria o númeo de tentativas, no caso seria cerca de 11 tentativas."
   ]
  }
 ],
 "metadata": {
  "kernelspec": {
   "display_name": "Python 3",
   "language": "python",
   "name": "python3"
  },
  "language_info": {
   "codemirror_mode": {
    "name": "ipython",
    "version": 3
   },
   "file_extension": ".py",
   "mimetype": "text/x-python",
   "name": "python",
   "nbconvert_exporter": "python",
   "pygments_lexer": "ipython3",
   "version": "3.10.7"
  },
  "orig_nbformat": 4
 },
 "nbformat": 4,
 "nbformat_minor": 2
}
