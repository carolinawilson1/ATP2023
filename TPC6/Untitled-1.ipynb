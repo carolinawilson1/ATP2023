{
 "cells": [
  {
   "cell_type": "markdown",
   "metadata": {},
   "source": [
    "### TPC5: Análise de dados: doença cardíaca\n",
    "\n",
    "Descarregue o ficheiro de dados: `myheart.csv`\n",
    "Crie um programa em Python, conjunto de funções, que responda às seguintes questões:\n",
    "* Crie uma função que lê a informação do ficheiro para um modelo, previamente pensado em memória;\n",
    "* Crie uma função que calcula a distribuição da doença por sexo;\n",
    "* Crie uma função que calcula a distribuição da doença por escalões etários. Considere os seguintes escalões: [30-34], [35-39], [40-44], ...\n",
    "* Crie uma função que calcula a distribuição da doença por níveis de colesterol. Considere um nível igual a um intervalo de 10 unidades, comece no limite inferior e crie os níveis necessários até abranger o limite superior;\n",
    "* Crie uma função que imprime na forma de uma tabela uma distribuição;\n",
    "* Especifique um programa que ao executar apresenta as tabelas correspondentes às distribuições pedidas."
   ]
  },
  {
   "cell_type": "code",
   "execution_count": null,
   "metadata": {},
   "outputs": [],
   "source": [
    "import pandas as pd \n",
    "import csv\n",
    "ficheiro=pd.read_csv('myheart.csv')\n",
    "print(ficheiro)\n",
    "\n"
   ]
  },
  {
   "cell_type": "code",
   "execution_count": 5,
   "metadata": {},
   "outputs": [
    {
     "ename": "FileNotFoundError",
     "evalue": "[Errno 2] No such file or directory: 'myheart.csv'",
     "output_type": "error",
     "traceback": [
      "\u001b[1;31m---------------------------------------------------------------------------\u001b[0m",
      "\u001b[1;31mFileNotFoundError\u001b[0m                         Traceback (most recent call last)",
      "\u001b[1;32mc:\\Users\\MS-FD\\Desktop\\UNI\\2º ano\\1 semestre\\Programação\\TPC\\TPC5\\Untitled-1.ipynb Cell 3\u001b[0m line \u001b[0;36m6\n\u001b[0;32m     <a href='vscode-notebook-cell:/c%3A/Users/MS-FD/Desktop/UNI/2%C2%BA%20ano/1%20semestre/Programa%C3%A7%C3%A3o/TPC/TPC5/Untitled-1.ipynb#W1sZmlsZQ%3D%3D?line=61'>62</a>\u001b[0m     \u001b[39melif\u001b[39;00m opc \u001b[39m==\u001b[39m \u001b[39m\"\u001b[39m\u001b[39mcolesterol\u001b[39m\u001b[39m\"\u001b[39m:\n\u001b[0;32m     <a href='vscode-notebook-cell:/c%3A/Users/MS-FD/Desktop/UNI/2%C2%BA%20ano/1%20semestre/Programa%C3%A7%C3%A3o/TPC/TPC5/Untitled-1.ipynb#W1sZmlsZQ%3D%3D?line=62'>63</a>\u001b[0m         distribuiçaoColesterol()\n\u001b[1;32m---> <a href='vscode-notebook-cell:/c%3A/Users/MS-FD/Desktop/UNI/2%C2%BA%20ano/1%20semestre/Programa%C3%A7%C3%A3o/TPC/TPC5/Untitled-1.ipynb#W1sZmlsZQ%3D%3D?line=63'>64</a>\u001b[0m menu()\n",
      "\u001b[1;32mc:\\Users\\MS-FD\\Desktop\\UNI\\2º ano\\1 semestre\\Programação\\TPC\\TPC5\\Untitled-1.ipynb Cell 3\u001b[0m line \u001b[0;36m6\n\u001b[0;32m     <a href='vscode-notebook-cell:/c%3A/Users/MS-FD/Desktop/UNI/2%C2%BA%20ano/1%20semestre/Programa%C3%A7%C3%A3o/TPC/TPC5/Untitled-1.ipynb#W1sZmlsZQ%3D%3D?line=58'>59</a>\u001b[0m     distribuiçaoSexo()\n\u001b[0;32m     <a href='vscode-notebook-cell:/c%3A/Users/MS-FD/Desktop/UNI/2%C2%BA%20ano/1%20semestre/Programa%C3%A7%C3%A3o/TPC/TPC5/Untitled-1.ipynb#W1sZmlsZQ%3D%3D?line=59'>60</a>\u001b[0m \u001b[39melif\u001b[39;00m opc \u001b[39m==\u001b[39m \u001b[39m\"\u001b[39m\u001b[39midade\u001b[39m\u001b[39m\"\u001b[39m:\n\u001b[1;32m---> <a href='vscode-notebook-cell:/c%3A/Users/MS-FD/Desktop/UNI/2%C2%BA%20ano/1%20semestre/Programa%C3%A7%C3%A3o/TPC/TPC5/Untitled-1.ipynb#W1sZmlsZQ%3D%3D?line=60'>61</a>\u001b[0m     distribuiçaoIdade()\n\u001b[0;32m     <a href='vscode-notebook-cell:/c%3A/Users/MS-FD/Desktop/UNI/2%C2%BA%20ano/1%20semestre/Programa%C3%A7%C3%A3o/TPC/TPC5/Untitled-1.ipynb#W1sZmlsZQ%3D%3D?line=61'>62</a>\u001b[0m \u001b[39melif\u001b[39;00m opc \u001b[39m==\u001b[39m \u001b[39m\"\u001b[39m\u001b[39mcolesterol\u001b[39m\u001b[39m\"\u001b[39m:\n\u001b[0;32m     <a href='vscode-notebook-cell:/c%3A/Users/MS-FD/Desktop/UNI/2%C2%BA%20ano/1%20semestre/Programa%C3%A7%C3%A3o/TPC/TPC5/Untitled-1.ipynb#W1sZmlsZQ%3D%3D?line=62'>63</a>\u001b[0m     distribuiçaoColesterol()\n",
      "\u001b[1;32mc:\\Users\\MS-FD\\Desktop\\UNI\\2º ano\\1 semestre\\Programação\\TPC\\TPC5\\Untitled-1.ipynb Cell 3\u001b[0m line \u001b[0;36m3\n\u001b[0;32m     <a href='vscode-notebook-cell:/c%3A/Users/MS-FD/Desktop/UNI/2%C2%BA%20ano/1%20semestre/Programa%C3%A7%C3%A3o/TPC/TPC5/Untitled-1.ipynb#W1sZmlsZQ%3D%3D?line=31'>32</a>\u001b[0m \u001b[39mdef\u001b[39;00m \u001b[39mdistribuiçaoIdade\u001b[39m():\n\u001b[1;32m---> <a href='vscode-notebook-cell:/c%3A/Users/MS-FD/Desktop/UNI/2%C2%BA%20ano/1%20semestre/Programa%C3%A7%C3%A3o/TPC/TPC5/Untitled-1.ipynb#W1sZmlsZQ%3D%3D?line=32'>33</a>\u001b[0m     leInformaçao()\n\u001b[0;32m     <a href='vscode-notebook-cell:/c%3A/Users/MS-FD/Desktop/UNI/2%C2%BA%20ano/1%20semestre/Programa%C3%A7%C3%A3o/TPC/TPC5/Untitled-1.ipynb#W1sZmlsZQ%3D%3D?line=33'>34</a>\u001b[0m     lista \u001b[39m=\u001b[39m []\n\u001b[0;32m     <a href='vscode-notebook-cell:/c%3A/Users/MS-FD/Desktop/UNI/2%C2%BA%20ano/1%20semestre/Programa%C3%A7%C3%A3o/TPC/TPC5/Untitled-1.ipynb#W1sZmlsZQ%3D%3D?line=34'>35</a>\u001b[0m     escaloes \u001b[39m=\u001b[39m [[\u001b[39m20\u001b[39m,\u001b[39m24\u001b[39m],[\u001b[39m25\u001b[39m,\u001b[39m29\u001b[39m],[\u001b[39m30\u001b[39m,\u001b[39m34\u001b[39m],[\u001b[39m35\u001b[39m,\u001b[39m39\u001b[39m],[\u001b[39m40\u001b[39m,\u001b[39m44\u001b[39m],[\u001b[39m45\u001b[39m,\u001b[39m49\u001b[39m],[\u001b[39m50\u001b[39m,\u001b[39m54\u001b[39m],[\u001b[39m55\u001b[39m,\u001b[39m59\u001b[39m],[\u001b[39m60\u001b[39m,\u001b[39m64\u001b[39m],[\u001b[39m65\u001b[39m,\u001b[39m69\u001b[39m],[\u001b[39m70\u001b[39m,\u001b[39m74\u001b[39m],[\u001b[39m75\u001b[39m,\u001b[39m79\u001b[39m],[\u001b[39m80\u001b[39m,\u001b[39m84\u001b[39m],[\u001b[39m85\u001b[39m,\u001b[39m89\u001b[39m]]\n",
      "\u001b[1;32mc:\\Users\\MS-FD\\Desktop\\UNI\\2º ano\\1 semestre\\Programação\\TPC\\TPC5\\Untitled-1.ipynb Cell 3\u001b[0m line \u001b[0;36m1\n\u001b[0;32m      <a href='vscode-notebook-cell:/c%3A/Users/MS-FD/Desktop/UNI/2%C2%BA%20ano/1%20semestre/Programa%C3%A7%C3%A3o/TPC/TPC5/Untitled-1.ipynb#W1sZmlsZQ%3D%3D?line=8'>9</a>\u001b[0m \u001b[39mdef\u001b[39;00m \u001b[39mleInformaçao\u001b[39m():\n\u001b[1;32m---> <a href='vscode-notebook-cell:/c%3A/Users/MS-FD/Desktop/UNI/2%C2%BA%20ano/1%20semestre/Programa%C3%A7%C3%A3o/TPC/TPC5/Untitled-1.ipynb#W1sZmlsZQ%3D%3D?line=9'>10</a>\u001b[0m     ficheiro \u001b[39m=\u001b[39m \u001b[39mopen\u001b[39;49m(\u001b[39m'\u001b[39;49m\u001b[39mmyheart.csv\u001b[39;49m\u001b[39m'\u001b[39;49m, mode\u001b[39m=\u001b[39;49m\u001b[39m'\u001b[39;49m\u001b[39mr\u001b[39;49m\u001b[39m'\u001b[39;49m)\n\u001b[0;32m     <a href='vscode-notebook-cell:/c%3A/Users/MS-FD/Desktop/UNI/2%C2%BA%20ano/1%20semestre/Programa%C3%A7%C3%A3o/TPC/TPC5/Untitled-1.ipynb#W1sZmlsZQ%3D%3D?line=10'>11</a>\u001b[0m     informaçao \u001b[39m=\u001b[39m csv\u001b[39m.\u001b[39mreader(ficheiro,delimiter\u001b[39m=\u001b[39m\u001b[39m'\u001b[39m\u001b[39m,\u001b[39m\u001b[39m'\u001b[39m)\n\u001b[0;32m     <a href='vscode-notebook-cell:/c%3A/Users/MS-FD/Desktop/UNI/2%C2%BA%20ano/1%20semestre/Programa%C3%A7%C3%A3o/TPC/TPC5/Untitled-1.ipynb#W1sZmlsZQ%3D%3D?line=11'>12</a>\u001b[0m     nlinha \u001b[39m=\u001b[39m \u001b[39m0\u001b[39m\n",
      "\u001b[1;31mFileNotFoundError\u001b[0m: [Errno 2] No such file or directory: 'myheart.csv'"
     ]
    }
   ],
   "source": [
    "import pandas as pd \n",
    "import csv\n",
    "def TabelaH():\n",
    "    ficheiro=pd.read_csv('myheart.csv')\n",
    "    print(ficheiro)\n",
    "\n",
    "tabela = []\n",
    "\n",
    "def leInformaçao():\n",
    "    ficheiro = open('myheart.csv', mode='r')\n",
    "    informaçao = csv.reader(ficheiro,delimiter=',')\n",
    "    nlinha = 0\n",
    "    for linha in informaçao:\n",
    "        if nlinha == 0:\n",
    "            nlinha += 1\n",
    "        else:\n",
    "            tabela.append((int(linha[0]),linha[1],int(linha[2]),int(linha[3]),int(linha[4]),int(linha[5])))\n",
    "\n",
    "def distribuiçaoSexo():\n",
    "    leInformaçao()\n",
    "    contadorM = 0\n",
    "    contadorF = 0\n",
    "    for t in tabela:\n",
    "        idade,sexo,tensao,colesterol,batimento,temd = t\n",
    "        if temd==1 and sexo=='M':\n",
    "            contadorM+=1\n",
    "        elif temd==1 and sexo=='F':\n",
    "            contadorF+=1\n",
    "    print(\"Há {} pacientes que são mulheres\".format(contadorF))\n",
    "    print(\"Há {} pacientes que são homens\".format(contadorM))\n",
    "\n",
    "def distribuiçaoIdade():\n",
    "    leInformaçao()\n",
    "    lista = []\n",
    "    escaloes = [[20,24],[25,29],[30,34],[35,39],[40,44],[45,49],[50,54],[55,59],[60,64],[65,69],[70,74],[75,79],[80,84],[85,89]]\n",
    "    for t in tabela:\n",
    "        idade,sexo,tensao,colesterol,batimento,temd = t\n",
    "        for escalao in escaloes:\n",
    "            if temd==1 and idade>=escalao[0] and idade<=escalao[1]:\n",
    "                lista.append(escalao)\n",
    "    for escalao in escaloes:\n",
    "        print(\"Há {} pacientes do escalao {}\".format(lista.count(escalao), escalao))\n",
    "\n",
    "def distribuiçaoColesterol():\n",
    "    leInformaçao()\n",
    "    lista = []\n",
    "    niveis = [[0,10],[90,100],[100,110],[110,120],[120,130],[130,140],[140,150],[150,160],[160,170],[170,180],[180,190],[190,200],[200,210],[210,220],[220,230],[230,240],[240,250],[250,260],[260,270],[270,280],[280,290],[290,300],[300,310],[310,320],[320,330],[330,340],[340,350],[350,360]]    \n",
    "    for t in tabela:\n",
    "        idade,sexo,tensao,colesterol,batimento,temd = t\n",
    "        for nivel in niveis:\n",
    "            if temd == 1 and colesterol>=nivel[0] and colesterol<=nivel[1]:\n",
    "                lista.append(nivel)\n",
    "    for nivel in niveis:\n",
    "        print(\"Há {} pacientes no nivel de colesterol {}\".format(lista.count(nivel), nivel))\n",
    "\n",
    "def menu():\n",
    "    opc = input(\"Escolha a função que deseja selecionar (Distribuiçao por sexo, idade ou colesterol)\")\n",
    "    if opc == \"sexo\":\n",
    "        distribuiçaoSexo()\n",
    "    elif opc == \"idade\":\n",
    "        distribuiçaoIdade()\n",
    "    elif opc == \"colesterol\":\n",
    "        distribuiçaoColesterol()\n",
    "menu()\n",
    "\n"
   ]
  }
 ],
 "metadata": {
  "kernelspec": {
   "display_name": "Python 3.10.7 64-bit",
   "language": "python",
   "name": "python3"
  },
  "language_info": {
   "codemirror_mode": {
    "name": "ipython",
    "version": 3
   },
   "file_extension": ".py",
   "mimetype": "text/x-python",
   "name": "python",
   "nbconvert_exporter": "python",
   "pygments_lexer": "ipython3",
   "version": "3.10.7"
  },
  "orig_nbformat": 4,
  "vscode": {
   "interpreter": {
    "hash": "14c278ee34bf5f9bb5b29d161632687207780f9a2b4c35a5d97fe65c41f2ad20"
   }
  }
 },
 "nbformat": 4,
 "nbformat_minor": 2
}
